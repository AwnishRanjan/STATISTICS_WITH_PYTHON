{
 "cells": [
  {
   "cell_type": "code",
   "execution_count": 1,
   "id": "c88df328",
   "metadata": {},
   "outputs": [],
   "source": [
    "import numpy as np\n"
   ]
  },
  {
   "cell_type": "code",
   "execution_count": 2,
   "id": "c32da56e",
   "metadata": {},
   "outputs": [],
   "source": [
    "import scipy.stats as stat "
   ]
  },
  {
   "cell_type": "code",
   "execution_count": 7,
   "id": "221acb0d",
   "metadata": {},
   "outputs": [],
   "source": [
    "worker1=[30,31,40,49,49,45,32,34]\n",
    "worker2=[12,34,51,22,34,56,77,85,1,2]\n",
    "alpha= 0.05\n",
    "df1=7"
   ]
  },
  {
   "cell_type": "code",
   "execution_count": 10,
   "id": "4d1b37ff",
   "metadata": {},
   "outputs": [
    {
     "data": {
      "text/plain": [
       "0.09846785743237765"
      ]
     },
     "execution_count": 10,
     "metadata": {},
     "output_type": "execute_result"
    }
   ],
   "source": [
    "f_test=np.var(worker1)/np.var(worker2)\n",
    "f_test"
   ]
  },
  {
   "cell_type": "code",
   "execution_count": 8,
   "id": "2484d7ad",
   "metadata": {},
   "outputs": [],
   "source": [
    "critical_value=stat.f.ppf(q=1-alpha,dfn=7,dfd=9)"
   ]
  },
  {
   "cell_type": "code",
   "execution_count": 9,
   "id": "b0f39eb4",
   "metadata": {},
   "outputs": [
    {
     "data": {
      "text/plain": [
       "3.29274583891712"
      ]
     },
     "execution_count": 9,
     "metadata": {},
     "output_type": "execute_result"
    }
   ],
   "source": [
    "critical_value"
   ]
  },
  {
   "cell_type": "code",
   "execution_count": 12,
   "id": "f817eaec",
   "metadata": {},
   "outputs": [
    {
     "name": "stdout",
     "output_type": "stream",
     "text": [
      "acept\n"
     ]
    }
   ],
   "source": [
    "if f_test>critical_value:\n",
    "        print(\"reject\")\n",
    "else :\n",
    "    print('acept')"
   ]
  },
  {
   "cell_type": "code",
   "execution_count": 13,
   "id": "bb7d90b3",
   "metadata": {},
   "outputs": [],
   "source": [
    "# both worker have same capabilites"
   ]
  },
  {
   "cell_type": "code",
   "execution_count": null,
   "id": "593db00d",
   "metadata": {},
   "outputs": [],
   "source": []
  }
 ],
 "metadata": {
  "kernelspec": {
   "display_name": "Python 3 (ipykernel)",
   "language": "python",
   "name": "python3"
  },
  "language_info": {
   "codemirror_mode": {
    "name": "ipython",
    "version": 3
   },
   "file_extension": ".py",
   "mimetype": "text/x-python",
   "name": "python",
   "nbconvert_exporter": "python",
   "pygments_lexer": "ipython3",
   "version": "3.11.0"
  }
 },
 "nbformat": 4,
 "nbformat_minor": 5
}

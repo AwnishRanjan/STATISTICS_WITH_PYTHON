{
 "cells": [
  {
   "cell_type": "code",
   "execution_count": 17,
   "id": "2a8f1222",
   "metadata": {},
   "outputs": [],
   "source": [
    "from scipy.stats import f_oneway,f\n",
    "import seaborn as sns"
   ]
  },
  {
   "cell_type": "code",
   "execution_count": null,
   "id": "cb86882e",
   "metadata": {},
   "outputs": [],
   "source": [
    "\n",
    "# Performance when each of the engine\n",
    "# oil is applied\n",
    "performance1 = [89, 89, 88, 78, 79]\n",
    "performance2 = [93, 92, 94, 89, 88]\n",
    "performance3 = [89, 88, 89, 93, 90]\n",
    "performance4 = [81, 78, 81, 92, 82]"
   ]
  },
  {
   "cell_type": "code",
   "execution_count": 6,
   "id": "aa1df799",
   "metadata": {},
   "outputs": [],
   "source": [
    "f_statistics ,p_value = f_oneway(performance1,performance2,performance3)"
   ]
  },
  {
   "cell_type": "code",
   "execution_count": 7,
   "id": "8d9b0be0",
   "metadata": {},
   "outputs": [
    {
     "data": {
      "text/plain": [
       "4.35011990407674"
      ]
     },
     "execution_count": 7,
     "metadata": {},
     "output_type": "execute_result"
    }
   ],
   "source": [
    "f_statistics"
   ]
  },
  {
   "cell_type": "code",
   "execution_count": 42,
   "id": "f309c550",
   "metadata": {},
   "outputs": [],
   "source": [
    "df1=4-1\n",
    "df2=20-3\n",
    "alpha=0.05"
   ]
  },
  {
   "cell_type": "code",
   "execution_count": 43,
   "id": "79662a08",
   "metadata": {},
   "outputs": [
    {
     "data": {
      "text/plain": [
       "3.1967768409433432"
      ]
     },
     "execution_count": 43,
     "metadata": {},
     "output_type": "execute_result"
    }
   ],
   "source": [
    "critical_value = f.ppf(1 - alpha, df1, df2)\n",
    "critical_value\n"
   ]
  },
  {
   "cell_type": "markdown",
   "id": "a0d20c8f",
   "metadata": {},
   "source": [
    "# TWO WAY ANOVA"
   ]
  },
  {
   "cell_type": "code",
   "execution_count": 30,
   "id": "bbc8b9ad",
   "metadata": {},
   "outputs": [],
   "source": [
    "import pandas as pd\n",
    "import statsmodels.api as sm\n",
    "from statsmodels.formula.api import ols         #ordinary least square func"
   ]
  },
  {
   "cell_type": "code",
   "execution_count": 34,
   "id": "2460eaab",
   "metadata": {},
   "outputs": [],
   "source": [
    "data = {\n",
    "    'Diet': ['A', 'A', 'B', 'B', 'A', 'A', 'B', 'B'],\n",
    "    'Exercise': ['X', 'Y', 'X', 'Y', 'X', 'Y', 'X', 'Y'],\n",
    "    'WeightLoss': [3, 4, 5, 6, 2, 3, 4, 5]\n",
    "}\n",
    "df= pd.DataFrame(data)"
   ]
  },
  {
   "cell_type": "code",
   "execution_count": 41,
   "id": "965f7d39",
   "metadata": {},
   "outputs": [],
   "source": [
    "#  'x ~ y * z' : relation btw x and y,z"
   ]
  },
  {
   "cell_type": "code",
   "execution_count": 37,
   "id": "4aceff7a",
   "metadata": {},
   "outputs": [],
   "source": [
    "model = ols('WeightLoss ~ Diet * Exercise',data=df).fit()"
   ]
  },
  {
   "cell_type": "code",
   "execution_count": 47,
   "id": "0f267882",
   "metadata": {},
   "outputs": [
    {
     "name": "stdout",
     "output_type": "stream",
     "text": [
      "                            OLS Regression Results                            \n",
      "==============================================================================\n",
      "Dep. Variable:             WeightLoss   R-squared:                       0.833\n",
      "Model:                            OLS   Adj. R-squared:                  0.708\n",
      "Method:                 Least Squares   F-statistic:                     6.667\n",
      "Date:                Mon, 11 Sep 2023   Prob (F-statistic):             0.0491\n",
      "Time:                        14:18:37   Log-Likelihood:                -5.8063\n",
      "No. Observations:                   8   AIC:                             19.61\n",
      "Df Residuals:                       4   BIC:                             19.93\n",
      "Df Model:                           3                                         \n",
      "Covariance Type:            nonrobust                                         \n",
      "===========================================================================================\n",
      "                              coef    std err          t      P>|t|      [0.025      0.975]\n",
      "-------------------------------------------------------------------------------------------\n",
      "Intercept                   2.5000      0.500      5.000      0.007       1.112       3.888\n",
      "Diet[T.B]                   2.0000      0.707      2.828      0.047       0.037       3.963\n",
      "Exercise[T.Y]               1.0000      0.707      1.414      0.230      -0.963       2.963\n",
      "Diet[T.B]:Exercise[T.Y]  4.441e-16      1.000   4.44e-16      1.000      -2.776       2.776\n",
      "==============================================================================\n",
      "Omnibus:                        9.677   Durbin-Watson:                   0.500\n",
      "Prob(Omnibus):                  0.008   Jarque-Bera (JB):                1.333\n",
      "Skew:                           0.000   Prob(JB):                        0.513\n",
      "Kurtosis:                       1.000   Cond. No.                         6.85\n",
      "==============================================================================\n",
      "\n",
      "Notes:\n",
      "[1] Standard Errors assume that the covariance matrix of the errors is correctly specified.\n"
     ]
    },
    {
     "name": "stderr",
     "output_type": "stream",
     "text": [
      "C:\\Users\\ranja\\AppData\\Local\\Programs\\Python\\Python311\\Lib\\site-packages\\scipy\\stats\\_stats_py.py:1772: UserWarning: kurtosistest only valid for n>=20 ... continuing anyway, n=8\n",
      "  warnings.warn(\"kurtosistest only valid for n>=20 ... continuing \"\n"
     ]
    }
   ],
   "source": [
    "print(model.summary())"
   ]
  },
  {
   "cell_type": "code",
   "execution_count": 39,
   "id": "ff157079",
   "metadata": {},
   "outputs": [],
   "source": [
    "anova_table = sm.stats.anova_lm(model, typ=2)"
   ]
  },
  {
   "cell_type": "code",
   "execution_count": 40,
   "id": "82b6ce15",
   "metadata": {},
   "outputs": [
    {
     "data": {
      "text/html": [
       "<div>\n",
       "<style scoped>\n",
       "    .dataframe tbody tr th:only-of-type {\n",
       "        vertical-align: middle;\n",
       "    }\n",
       "\n",
       "    .dataframe tbody tr th {\n",
       "        vertical-align: top;\n",
       "    }\n",
       "\n",
       "    .dataframe thead th {\n",
       "        text-align: right;\n",
       "    }\n",
       "</style>\n",
       "<table border=\"1\" class=\"dataframe\">\n",
       "  <thead>\n",
       "    <tr style=\"text-align: right;\">\n",
       "      <th></th>\n",
       "      <th>sum_sq</th>\n",
       "      <th>df</th>\n",
       "      <th>F</th>\n",
       "      <th>PR(&gt;F)</th>\n",
       "    </tr>\n",
       "  </thead>\n",
       "  <tbody>\n",
       "    <tr>\n",
       "      <th>Diet</th>\n",
       "      <td>8.000000e+00</td>\n",
       "      <td>1.0</td>\n",
       "      <td>1.600000e+01</td>\n",
       "      <td>0.016130</td>\n",
       "    </tr>\n",
       "    <tr>\n",
       "      <th>Exercise</th>\n",
       "      <td>2.000000e+00</td>\n",
       "      <td>1.0</td>\n",
       "      <td>4.000000e+00</td>\n",
       "      <td>0.116117</td>\n",
       "    </tr>\n",
       "    <tr>\n",
       "      <th>Diet:Exercise</th>\n",
       "      <td>9.860761e-32</td>\n",
       "      <td>1.0</td>\n",
       "      <td>1.972152e-31</td>\n",
       "      <td>1.000000</td>\n",
       "    </tr>\n",
       "    <tr>\n",
       "      <th>Residual</th>\n",
       "      <td>2.000000e+00</td>\n",
       "      <td>4.0</td>\n",
       "      <td>NaN</td>\n",
       "      <td>NaN</td>\n",
       "    </tr>\n",
       "  </tbody>\n",
       "</table>\n",
       "</div>"
      ],
      "text/plain": [
       "                     sum_sq   df             F    PR(>F)\n",
       "Diet           8.000000e+00  1.0  1.600000e+01  0.016130\n",
       "Exercise       2.000000e+00  1.0  4.000000e+00  0.116117\n",
       "Diet:Exercise  9.860761e-32  1.0  1.972152e-31  1.000000\n",
       "Residual       2.000000e+00  4.0           NaN       NaN"
      ]
     },
     "execution_count": 40,
     "metadata": {},
     "output_type": "execute_result"
    }
   ],
   "source": [
    "anova_table"
   ]
  },
  {
   "cell_type": "code",
   "execution_count": 50,
   "id": "0612a104",
   "metadata": {},
   "outputs": [],
   "source": [
    "# result of two way\n",
    "# here diet and ex both have p value less than alpha  so its statically significant\n",
    "# but diet:exercise together have value > alpha so its not statically significant so  it impact the user "
   ]
  },
  {
   "cell_type": "markdown",
   "id": "45f7fa0e",
   "metadata": {},
   "source": [
    "# pingouin.anova (ANOVA with post-hoc tests || factorial anova):"
   ]
  },
  {
   "cell_type": "markdown",
   "id": "0d63bdd1",
   "metadata": {},
   "source": [
    "# problem :\n",
    "<!-- Suppose you have data from an experiment where you tested the effect of different diets (Low-Fat, Low-Carb, and Mediterranean) on weight loss in a group of individuals. You want to determine if there are significant differences in weight loss between the diets. -->"
   ]
  },
  {
   "cell_type": "markdown",
   "id": "cc1ed348",
   "metadata": {},
   "source": [
    "# Suppose you have data from an experiment where you tested the effect of different diets (Low-Fat, Low-Carb, and Mediterranean) on weight loss in a group of individuals. You want to determine if there are significant differences in weight loss between the diets."
   ]
  },
  {
   "cell_type": "code",
   "execution_count": 53,
   "id": "566985d8",
   "metadata": {},
   "outputs": [],
   "source": [
    "import pingouin as pg"
   ]
  },
  {
   "cell_type": "code",
   "execution_count": 54,
   "id": "9fb09306",
   "metadata": {},
   "outputs": [],
   "source": [
    "data = {\n",
    "    'Diet': ['Low-Fat', 'Low-Fat', 'Low-Carb', 'Low-Carb', 'Mediterranean', 'Mediterranean'],\n",
    "    'WeightLoss': [3, 4, 5, 6, 2, 3]\n",
    "}\n",
    "\n",
    "df = pd.DataFrame(data)\n"
   ]
  },
  {
   "cell_type": "code",
   "execution_count": 64,
   "id": "1c58d6b3",
   "metadata": {},
   "outputs": [],
   "source": [
    "anova_result = pg.pairwise_tests(df,dv='WeightLoss',between='Diet')"
   ]
  },
  {
   "cell_type": "code",
   "execution_count": 59,
   "id": "e018be47",
   "metadata": {},
   "outputs": [
    {
     "data": {
      "text/html": [
       "<div>\n",
       "<style scoped>\n",
       "    .dataframe tbody tr th:only-of-type {\n",
       "        vertical-align: middle;\n",
       "    }\n",
       "\n",
       "    .dataframe tbody tr th {\n",
       "        vertical-align: top;\n",
       "    }\n",
       "\n",
       "    .dataframe thead th {\n",
       "        text-align: right;\n",
       "    }\n",
       "</style>\n",
       "<table border=\"1\" class=\"dataframe\">\n",
       "  <thead>\n",
       "    <tr style=\"text-align: right;\">\n",
       "      <th></th>\n",
       "      <th>Contrast</th>\n",
       "      <th>A</th>\n",
       "      <th>B</th>\n",
       "      <th>Paired</th>\n",
       "      <th>Parametric</th>\n",
       "      <th>T</th>\n",
       "      <th>dof</th>\n",
       "      <th>alternative</th>\n",
       "      <th>p-unc</th>\n",
       "      <th>BF10</th>\n",
       "      <th>hedges</th>\n",
       "    </tr>\n",
       "  </thead>\n",
       "  <tbody>\n",
       "    <tr>\n",
       "      <th>0</th>\n",
       "      <td>Diet</td>\n",
       "      <td>Low-Carb</td>\n",
       "      <td>Low-Fat</td>\n",
       "      <td>False</td>\n",
       "      <td>True</td>\n",
       "      <td>2.828427</td>\n",
       "      <td>2.0</td>\n",
       "      <td>two-sided</td>\n",
       "      <td>0.105573</td>\n",
       "      <td>1.483</td>\n",
       "      <td>1.616244</td>\n",
       "    </tr>\n",
       "    <tr>\n",
       "      <th>1</th>\n",
       "      <td>Diet</td>\n",
       "      <td>Low-Carb</td>\n",
       "      <td>Mediterranean</td>\n",
       "      <td>False</td>\n",
       "      <td>True</td>\n",
       "      <td>4.242641</td>\n",
       "      <td>2.0</td>\n",
       "      <td>two-sided</td>\n",
       "      <td>0.051317</td>\n",
       "      <td>2.07</td>\n",
       "      <td>2.424366</td>\n",
       "    </tr>\n",
       "    <tr>\n",
       "      <th>2</th>\n",
       "      <td>Diet</td>\n",
       "      <td>Low-Fat</td>\n",
       "      <td>Mediterranean</td>\n",
       "      <td>False</td>\n",
       "      <td>True</td>\n",
       "      <td>1.414214</td>\n",
       "      <td>2.0</td>\n",
       "      <td>two-sided</td>\n",
       "      <td>0.292893</td>\n",
       "      <td>0.923</td>\n",
       "      <td>0.808122</td>\n",
       "    </tr>\n",
       "  </tbody>\n",
       "</table>\n",
       "</div>"
      ],
      "text/plain": [
       "  Contrast         A              B  Paired  Parametric         T  dof  \\\n",
       "0     Diet  Low-Carb        Low-Fat   False        True  2.828427  2.0   \n",
       "1     Diet  Low-Carb  Mediterranean   False        True  4.242641  2.0   \n",
       "2     Diet   Low-Fat  Mediterranean   False        True  1.414214  2.0   \n",
       "\n",
       "  alternative     p-unc   BF10    hedges  \n",
       "0   two-sided  0.105573  1.483  1.616244  \n",
       "1   two-sided  0.051317   2.07  2.424366  \n",
       "2   two-sided  0.292893  0.923  0.808122  "
      ]
     },
     "execution_count": 59,
     "metadata": {},
     "output_type": "execute_result"
    }
   ],
   "source": [
    "anova_result"
   ]
  },
  {
   "cell_type": "code",
   "execution_count": 61,
   "id": "4ac6f9e0",
   "metadata": {},
   "outputs": [
    {
     "data": {
      "text/html": [
       "<div>\n",
       "<style scoped>\n",
       "    .dataframe tbody tr th:only-of-type {\n",
       "        vertical-align: middle;\n",
       "    }\n",
       "\n",
       "    .dataframe tbody tr th {\n",
       "        vertical-align: top;\n",
       "    }\n",
       "\n",
       "    .dataframe thead th {\n",
       "        text-align: right;\n",
       "    }\n",
       "</style>\n",
       "<table border=\"1\" class=\"dataframe\">\n",
       "  <thead>\n",
       "    <tr style=\"text-align: right;\">\n",
       "      <th></th>\n",
       "      <th>A</th>\n",
       "      <th>B</th>\n",
       "      <th>mean(A)</th>\n",
       "      <th>mean(B)</th>\n",
       "      <th>diff</th>\n",
       "      <th>se</th>\n",
       "      <th>T</th>\n",
       "      <th>p-tukey</th>\n",
       "      <th>hedges</th>\n",
       "    </tr>\n",
       "  </thead>\n",
       "  <tbody>\n",
       "    <tr>\n",
       "      <th>0</th>\n",
       "      <td>Low-Carb</td>\n",
       "      <td>Low-Fat</td>\n",
       "      <td>5.5</td>\n",
       "      <td>3.5</td>\n",
       "      <td>2.0</td>\n",
       "      <td>0.707107</td>\n",
       "      <td>2.828427</td>\n",
       "      <td>0.128821</td>\n",
       "      <td>1.616244</td>\n",
       "    </tr>\n",
       "    <tr>\n",
       "      <th>1</th>\n",
       "      <td>Low-Carb</td>\n",
       "      <td>Mediterranean</td>\n",
       "      <td>5.5</td>\n",
       "      <td>2.5</td>\n",
       "      <td>3.0</td>\n",
       "      <td>0.707107</td>\n",
       "      <td>4.242641</td>\n",
       "      <td>0.048068</td>\n",
       "      <td>2.424366</td>\n",
       "    </tr>\n",
       "    <tr>\n",
       "      <th>2</th>\n",
       "      <td>Low-Fat</td>\n",
       "      <td>Mediterranean</td>\n",
       "      <td>3.5</td>\n",
       "      <td>2.5</td>\n",
       "      <td>1.0</td>\n",
       "      <td>0.707107</td>\n",
       "      <td>1.414214</td>\n",
       "      <td>0.438629</td>\n",
       "      <td>0.808122</td>\n",
       "    </tr>\n",
       "  </tbody>\n",
       "</table>\n",
       "</div>"
      ],
      "text/plain": [
       "          A              B  mean(A)  mean(B)  diff        se         T  \\\n",
       "0  Low-Carb        Low-Fat      5.5      3.5   2.0  0.707107  2.828427   \n",
       "1  Low-Carb  Mediterranean      5.5      2.5   3.0  0.707107  4.242641   \n",
       "2   Low-Fat  Mediterranean      3.5      2.5   1.0  0.707107  1.414214   \n",
       "\n",
       "    p-tukey    hedges  \n",
       "0  0.128821  1.616244  \n",
       "1  0.048068  2.424366  \n",
       "2  0.438629  0.808122  "
      ]
     },
     "execution_count": 61,
     "metadata": {},
     "output_type": "execute_result"
    }
   ],
   "source": [
    "posthoc = pg.pairwise_tukey(data=df, dv='WeightLoss', between='Diet')\n",
    "posthoc"
   ]
  },
  {
   "cell_type": "code",
   "execution_count": null,
   "id": "d0aaa1ca",
   "metadata": {},
   "outputs": [],
   "source": []
  }
 ],
 "metadata": {
  "kernelspec": {
   "display_name": "Python 3 (ipykernel)",
   "language": "python",
   "name": "python3"
  },
  "language_info": {
   "codemirror_mode": {
    "name": "ipython",
    "version": 3
   },
   "file_extension": ".py",
   "mimetype": "text/x-python",
   "name": "python",
   "nbconvert_exporter": "python",
   "pygments_lexer": "ipython3",
   "version": "3.11.0"
  }
 },
 "nbformat": 4,
 "nbformat_minor": 5
}

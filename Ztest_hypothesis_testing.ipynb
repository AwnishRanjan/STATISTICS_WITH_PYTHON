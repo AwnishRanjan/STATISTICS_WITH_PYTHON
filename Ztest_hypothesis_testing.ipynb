{
 "cells": [
  {
   "cell_type": "markdown",
   "id": "d4a631f4",
   "metadata": {},
   "source": [
    "# Problem: A school claimed that the students’ study that is more intelligent than the average school. On calculating the IQ scores of 50 students, the average turns out to be 11. The mean of the population IQ is 100 and the standard deviation is 15. State whether the claim of principal is right or not at a 5% significance level."
   ]
  },
  {
   "cell_type": "code",
   "execution_count": 3,
   "id": "c605249d",
   "metadata": {},
   "outputs": [],
   "source": [
    "import numpy as np\n",
    "from statsmodels.stats.weightstats import ztest\n",
    "import scipy.stats as stat\n",
    "from numpy.random import randn\n",
    "import math"
   ]
  },
  {
   "cell_type": "code",
   "execution_count": 4,
   "id": "333f3610",
   "metadata": {},
   "outputs": [],
   "source": [
    "n=50\n",
    "s_mean = 11\n",
    "mean= 100\n",
    "sigma = 15\n",
    "alpha = 0.05\n",
    "mean_iq=110\n",
    "\n",
    "s_d= sigma/math.sqrt(n)"
   ]
  },
  {
   "cell_type": "code",
   "execution_count": 5,
   "id": "78e018c5",
   "metadata": {},
   "outputs": [],
   "source": [
    "#we know how to find std so using that formula we calculate or genrate the data using reverse engineering"
   ]
  },
  {
   "cell_type": "code",
   "execution_count": 6,
   "id": "a1a0ccd9",
   "metadata": {},
   "outputs": [],
   "source": [
    "data=s_d*randn(n)+mean_iq\n"
   ]
  },
  {
   "cell_type": "code",
   "execution_count": 7,
   "id": "a9c18ffc",
   "metadata": {},
   "outputs": [],
   "source": [
    "#to calculate Zscore and p value \n",
    "\n",
    "z_test,p_value=ztest(data, value=mean,alternative='larger')"
   ]
  },
  {
   "cell_type": "code",
   "execution_count": 8,
   "id": "05566040",
   "metadata": {},
   "outputs": [
    {
     "data": {
      "text/plain": [
       "30.9894606221981"
      ]
     },
     "execution_count": 8,
     "metadata": {},
     "output_type": "execute_result"
    }
   ],
   "source": [
    "z_test"
   ]
  },
  {
   "cell_type": "code",
   "execution_count": 17,
   "id": "7bd29eae",
   "metadata": {},
   "outputs": [
    {
     "data": {
      "text/plain": [
       "1.6448536269514722"
      ]
     },
     "execution_count": 17,
     "metadata": {},
     "output_type": "execute_result"
    }
   ],
   "source": [
    "z_score = stat.norm.ppf(1-alpha)\n",
    "z_score\n"
   ]
  },
  {
   "cell_type": "code",
   "execution_count": 16,
   "id": "bcb869d5",
   "metadata": {},
   "outputs": [
    {
     "name": "stdout",
     "output_type": "stream",
     "text": [
      "rejected\n"
     ]
    }
   ],
   "source": [
    "if(z_test>z_score):\n",
    "    print('rejected')\n",
    "else:\n",
    "    print('aceptes')"
   ]
  },
  {
   "cell_type": "code",
   "execution_count": null,
   "id": "f0abff02",
   "metadata": {},
   "outputs": [],
   "source": []
  },
  {
   "cell_type": "code",
   "execution_count": null,
   "id": "021c1da3",
   "metadata": {},
   "outputs": [],
   "source": []
  }
 ],
 "metadata": {
  "kernelspec": {
   "display_name": "Python 3 (ipykernel)",
   "language": "python",
   "name": "python3"
  },
  "language_info": {
   "codemirror_mode": {
    "name": "ipython",
    "version": 3
   },
   "file_extension": ".py",
   "mimetype": "text/x-python",
   "name": "python",
   "nbconvert_exporter": "python",
   "pygments_lexer": "ipython3",
   "version": "3.11.0"
  }
 },
 "nbformat": 4,
 "nbformat_minor": 5
}

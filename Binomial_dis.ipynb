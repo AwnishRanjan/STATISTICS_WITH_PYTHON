{
 "cells": [
  {
   "cell_type": "code",
   "execution_count": 55,
   "id": "c62d4142",
   "metadata": {},
   "outputs": [],
   "source": [
    "from scipy.stats import binom\n",
    "import matplotlib.pyplot as plt"
   ]
  },
  {
   "cell_type": "code",
   "execution_count": 56,
   "id": "06c8854b",
   "metadata": {},
   "outputs": [],
   "source": [
    "n=6\n",
    "p=0.5"
   ]
  },
  {
   "cell_type": "code",
   "execution_count": 57,
   "id": "e4f9b408",
   "metadata": {},
   "outputs": [],
   "source": [
    "random_val= list(range(n+1))"
   ]
  },
  {
   "cell_type": "code",
   "execution_count": 58,
   "id": "c31df399",
   "metadata": {},
   "outputs": [
    {
     "data": {
      "text/plain": [
       "[0, 1, 2, 3, 4, 5, 6]"
      ]
     },
     "execution_count": 58,
     "metadata": {},
     "output_type": "execute_result"
    }
   ],
   "source": [
    "random_val"
   ]
  },
  {
   "cell_type": "code",
   "execution_count": 59,
   "id": "b0b4f778",
   "metadata": {},
   "outputs": [],
   "source": [
    "mean,var = binom.stats(n,p)"
   ]
  },
  {
   "cell_type": "code",
   "execution_count": 60,
   "id": "0b5b749e",
   "metadata": {},
   "outputs": [
    {
     "data": {
      "text/plain": [
       "('3.0', '1.5')"
      ]
     },
     "execution_count": 60,
     "metadata": {},
     "output_type": "execute_result"
    }
   ],
   "source": [
    "str(mean),str(var) "
   ]
  },
  {
   "cell_type": "code",
   "execution_count": 74,
   "id": "3fc08272",
   "metadata": {},
   "outputs": [],
   "source": [
    "dist= [binom.pmf(i,n,p)for i in random_val]"
   ]
  },
  {
   "cell_type": "code",
   "execution_count": null,
   "id": "f643044e",
   "metadata": {},
   "outputs": [],
   "source": [
    "for i in range(n+1) :\n",
    "    print(str(rand))"
   ]
  },
  {
   "cell_type": "code",
   "execution_count": 73,
   "id": "78ec5fa9",
   "metadata": {},
   "outputs": [
    {
     "data": {
      "text/plain": [
       "<BarContainer object of 7 artists>"
      ]
     },
     "execution_count": 73,
     "metadata": {},
     "output_type": "execute_result"
    },
    {
     "data": {
      "image/png": "[encoded data removed]",
      "text/plain": [
       "<Figure size 640x480 with 1 Axes>"
      ]
     },
     "metadata": {},
     "output_type": "display_data"
    }
   ],
   "source": [
    "plt.bar(random_val,dist)"
   ]
  },
  {
   "cell_type": "code",
   "execution_count": null,
   "id": "2be2c875",
   "metadata": {},
   "outputs": [],
   "source": []
  }
 ],
 "metadata": {
  "kernelspec": {
   "display_name": "Python 3 (ipykernel)",
   "language": "python",
   "name": "python3"
  },
  "language_info": {
   "codemirror_mode": {
    "name": "ipython",
    "version": 3
   },
   "file_extension": ".py",
   "mimetype": "text/x-python",
   "name": "python",
   "nbconvert_exporter": "python",
   "pygments_lexer": "ipython3",
   "version": "3.11.0"
  }
 },
 "nbformat": 4,
 "nbformat_minor": 5
}

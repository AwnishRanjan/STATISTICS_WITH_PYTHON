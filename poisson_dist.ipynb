{
 "cells": [
  {
   "cell_type": "code",
   "execution_count": 1,
   "id": "31391e79",
   "metadata": {},
   "outputs": [],
   "source": [
    "from scipy.stats import poisson \n",
    "import numpy as np"
   ]
  },
  {
   "cell_type": "code",
   "execution_count": 44,
   "id": "6672a3c5",
   "metadata": {},
   "outputs": [],
   "source": [
    "a = 5   # mean or rate per time unit \n",
    "rv= poisson(a)\n"
   ]
  },
  {
   "cell_type": "code",
   "execution_count": 49,
   "id": "8f137a7a",
   "metadata": {},
   "outputs": [
    {
     "name": "stdout",
     "output_type": "stream",
     "text": [
      "Random Variates : \n",
      " [ 5  1  5  5  3 10  5  9  6  6  6  6]\n"
     ]
    }
   ],
   "source": [
    "R = poisson .rvs(a, size = 12) \n",
    "print (\"Random Variates : \\n\", R) "
   ]
  },
  {
   "cell_type": "code",
   "execution_count": 64,
   "id": "0e3bbffc",
   "metadata": {},
   "outputs": [
    {
     "data": {
      "text/plain": [
       "6.0"
      ]
     },
     "execution_count": 64,
     "metadata": {},
     "output_type": "execute_result"
    }
   ],
   "source": [
    "poisson.ppf(0.1,10)"
   ]
  },
  {
   "cell_type": "code",
   "execution_count": 42,
   "id": "feba0b1d",
   "metadata": {},
   "outputs": [
    {
     "data": {
      "text/plain": [
       "0.12511003572113372"
      ]
     },
     "execution_count": 42,
     "metadata": {},
     "output_type": "execute_result"
    }
   ],
   "source": [
    "lembda =10\n",
    "x = 10       \n",
    "poisson.pmf(x,lembda)   # ppf : percent point functn\n",
    "                        # 10 : no of events "
   ]
  },
  {
   "cell_type": "code",
   "execution_count": 43,
   "id": "85cfbdb8",
   "metadata": {},
   "outputs": [
    {
     "data": {
      "text/plain": [
       "0.5830397501929852"
      ]
     },
     "execution_count": 43,
     "metadata": {},
     "output_type": "execute_result"
    }
   ],
   "source": [
    "poisson.cdf(x,lembda)"
   ]
  },
  {
   "cell_type": "code",
   "execution_count": 63,
   "id": "922cda48",
   "metadata": {},
   "outputs": [
    {
     "name": "stdout",
     "output_type": "stream",
     "text": [
      "To have a cumulative probability of 0.9, the number of customers 'x' should be approximately 5.0\n"
     ]
    }
   ],
   "source": [
    "from scipy.stats import poisson\n",
    "\n",
    "# Average rate of customer arrivals per hour\n",
    "lambda_ = 3\n",
    "\n",
    "# Desired cumulative probability\n",
    "p = 0.9\n",
    "\n",
    "# Calculate the Poisson PPF (inverse CDF)\n",
    "x = poisson.ppf(p, lambda_)\n",
    "\n",
    "print(f\"To have a cumulative probability of {p}, the number of customers 'x' should be approximately {x}\")\n"
   ]
  },
  {
   "cell_type": "code",
   "execution_count": null,
   "id": "5a9c603a",
   "metadata": {},
   "outputs": [],
   "source": []
  }
 ],
 "metadata": {
  "kernelspec": {
   "display_name": "Python 3 (ipykernel)",
   "language": "python",
   "name": "python3"
  },
  "language_info": {
   "codemirror_mode": {
    "name": "ipython",
    "version": 3
   },
   "file_extension": ".py",
   "mimetype": "text/x-python",
   "name": "python",
   "nbconvert_exporter": "python",
   "pygments_lexer": "ipython3",
   "version": "3.11.0"
  }
 },
 "nbformat": 4,
 "nbformat_minor": 5
}

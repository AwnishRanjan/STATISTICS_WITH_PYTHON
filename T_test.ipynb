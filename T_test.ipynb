{
 "cells": [
  {
   "cell_type": "code",
   "execution_count": 52,
   "id": "ad3f6ae5",
   "metadata": {},
   "outputs": [],
   "source": [
    "import numpy as np\n",
    "from scipy import stats\n",
    "from numpy.random import randn\n",
    "import math"
   ]
  },
  {
   "cell_type": "code",
   "execution_count": 53,
   "id": "826271ac",
   "metadata": {},
   "outputs": [
    {
     "data": {
      "text/plain": [
       "array([23.26964033, 18.7923264 , 15.46423978,  8.70462826, 15.87005712,\n",
       "        8.56581893, 14.51275239, 20.4578433 , 15.23381129, 11.99094252,\n",
       "       12.43941712, 15.68392024, 22.94708398, 21.62907845, 12.73939454,\n",
       "       16.85767371,  7.86762502, 13.48135214, 23.77506309, 21.00526797,\n",
       "       11.45722344, 10.71099369, 18.20715709, 21.04000942, 14.15764933,\n",
       "       15.24680994, 12.44533875, 12.45176747, 19.14882384, 13.74461497])"
      ]
     },
     "execution_count": 53,
     "metadata": {},
     "output_type": "execute_result"
    }
   ],
   "source": [
    "n=30\n",
    "s_mean = 15\n",
    "p_mean= 100\n",
    "sigma = 20\n",
    "alpha = 0.05\n",
    "s_d= sigma/math.sqrt(n)\n",
    "data"
   ]
  },
  {
   "cell_type": "code",
   "execution_count": 54,
   "id": "5871f046",
   "metadata": {},
   "outputs": [],
   "source": [
    " data=s_d*randn(n)+s_mean"
   ]
  },
  {
   "cell_type": "code",
   "execution_count": 55,
   "id": "31ef3cd4",
   "metadata": {},
   "outputs": [
    {
     "data": {
      "text/plain": [
       "14.519977426260764"
      ]
     },
     "execution_count": 55,
     "metadata": {},
     "output_type": "execute_result"
    }
   ],
   "source": [
    "np.mean(data)"
   ]
  },
  {
   "cell_type": "code",
   "execution_count": 56,
   "id": "64480d86",
   "metadata": {},
   "outputs": [],
   "source": [
    "t_stat,p_value = stats.ttest_1samp(data,p_mean)"
   ]
  },
  {
   "cell_type": "code",
   "execution_count": 57,
   "id": "281cac54",
   "metadata": {},
   "outputs": [
    {
     "data": {
      "text/plain": [
       "(-144.25462503930316, 5.604273541825627e-43)"
      ]
     },
     "execution_count": 57,
     "metadata": {},
     "output_type": "execute_result"
    }
   ],
   "source": [
    "t_stat, p_value"
   ]
  },
  {
   "cell_type": "code",
   "execution_count": 58,
   "id": "0a23df18",
   "metadata": {},
   "outputs": [
    {
     "name": "stdout",
     "output_type": "stream",
     "text": [
      "reject\n"
     ]
    }
   ],
   "source": [
    "if(p_value<alpha):\n",
    "    print('reject')"
   ]
  },
  {
   "cell_type": "code",
   "execution_count": 59,
   "id": "dbd28418",
   "metadata": {},
   "outputs": [],
   "source": [
    "#  to calculate p value we use a diff method in test "
   ]
  },
  {
   "cell_type": "code",
   "execution_count": 60,
   "id": "c92ed107",
   "metadata": {},
   "outputs": [],
   "source": [
    "# import math\n",
    "# from scipy import stats\n",
    "\n",
    "# # Given data\n",
    "# n = 30\n",
    "# s_mean = 140\n",
    "# p_mean = 100\n",
    "# sigma = 20\n",
    "# alpha = 0.05\n",
    "\n",
    "# # Calculate the standard error of the sample mean\n",
    "# s_d = sigma / math.sqrt(n)\n",
    "\n",
    "# # Calculate the t-statistic\n",
    "# t_statistic = (s_mean - p_mean) / s_d\n",
    "\n",
    "# # Calculate degrees of freedom\n",
    "# df = n - 1\n",
    "\n",
    "# # Calculate the p-value for a one-tailed test\n",
    "# p_value = 1 - stats.t.cdf(t_statistic, df=df)\n",
    "\n",
    "# # Print the results\n",
    "# print(\"T-Statistic:\", t_statistic)\n",
    "# print(\"P-Value:\", p_value)\n",
    "\n",
    "# # Compare the p-value to the significance level to make a decision\n",
    "# if p_value < alpha:\n",
    "#     print(\"Reject the null hypothesis: The sample mean is significantly different from the population mean.\")\n",
    "# else:\n",
    "#     print(\"Fail to reject the null hypothesis: There is no significant difference.\")\n"
   ]
  },
  {
   "cell_type": "code",
   "execution_count": 61,
   "id": "b4646bcb",
   "metadata": {},
   "outputs": [],
   "source": [
    "t_score = stats.t.ppf(1-alpha,29)"
   ]
  },
  {
   "cell_type": "code",
   "execution_count": 62,
   "id": "b246f72e",
   "metadata": {},
   "outputs": [
    {
     "data": {
      "text/plain": [
       "1.6991270265334972"
      ]
     },
     "execution_count": 62,
     "metadata": {},
     "output_type": "execute_result"
    }
   ],
   "source": [
    "t_score"
   ]
  },
  {
   "cell_type": "code",
   "execution_count": 63,
   "id": "c6fd1891",
   "metadata": {},
   "outputs": [
    {
     "data": {
      "text/plain": [
       "-144.25462503930316"
      ]
     },
     "execution_count": 63,
     "metadata": {},
     "output_type": "execute_result"
    }
   ],
   "source": [
    "t_stat"
   ]
  },
  {
   "cell_type": "code",
   "execution_count": 67,
   "id": "6b667707",
   "metadata": {},
   "outputs": [
    {
     "name": "stdout",
     "output_type": "stream",
     "text": [
      "reject\n"
     ]
    }
   ],
   "source": [
    "if(t_stat<-t_score or t_stat>t_score):\n",
    "    print('reject')\n",
    "else :\n",
    "     print('acept')"
   ]
  },
  {
   "cell_type": "code",
   "execution_count": null,
   "id": "1773eebd",
   "metadata": {},
   "outputs": [],
   "source": []
  }
 ],
 "metadata": {
  "kernelspec": {
   "display_name": "Python 3 (ipykernel)",
   "language": "python",
   "name": "python3"
  },
  "language_info": {
   "codemirror_mode": {
    "name": "ipython",
    "version": 3
   },
   "file_extension": ".py",
   "mimetype": "text/x-python",
   "name": "python",
   "nbconvert_exporter": "python",
   "pygments_lexer": "ipython3",
   "version": "3.11.0"
  }
 },
 "nbformat": 4,
 "nbformat_minor": 5
}

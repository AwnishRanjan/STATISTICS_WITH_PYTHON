{
 "cells": [
  {
   "cell_type": "code",
   "execution_count": 9,
   "id": "161798af",
   "metadata": {},
   "outputs": [],
   "source": [
    "import scipy.stats as stat\n",
    "import numpy as np"
   ]
  },
  {
   "cell_type": "code",
   "execution_count": 13,
   "id": "74920d53",
   "metadata": {},
   "outputs": [],
   "source": [
    "Expected_data=[9,8,8,7,6,7,8,9,6]\n",
    "observed_data=[8,7,6,7,8,9,6,8,9]"
   ]
  },
  {
   "cell_type": "code",
   "execution_count": 14,
   "id": "3dc13f6a",
   "metadata": {},
   "outputs": [],
   "source": [
    "# finding the X**2\n",
    "c_T_statics,p_value=stat.chisquare(observed_data,Expected_data)"
   ]
  },
  {
   "cell_type": "code",
   "execution_count": 18,
   "id": "25ad12e3",
   "metadata": {},
   "outputs": [
    {
     "data": {
      "text/plain": [
       "(0.8493448991613994, 4.0853174603174605)"
      ]
     },
     "execution_count": 18,
     "metadata": {},
     "output_type": "execute_result"
    }
   ],
   "source": [
    "p_value, c_T_statics"
   ]
  },
  {
   "cell_type": "code",
   "execution_count": 21,
   "id": "0280e314",
   "metadata": {},
   "outputs": [],
   "source": [
    "#finding the critical value\n",
    "n=9"
   ]
  },
  {
   "cell_type": "code",
   "execution_count": 22,
   "id": "eec7af2d",
   "metadata": {},
   "outputs": [],
   "source": [
    "alpha = 0.05 # given\n",
    "dof= n-1\n"
   ]
  },
  {
   "cell_type": "code",
   "execution_count": 25,
   "id": "94b9dc4b",
   "metadata": {},
   "outputs": [],
   "source": [
    "critical_val=stat.chi2.ppf(1-alpha,dof)"
   ]
  },
  {
   "cell_type": "code",
   "execution_count": 30,
   "id": "bbc1ffaa",
   "metadata": {},
   "outputs": [
    {
     "name": "stdout",
     "output_type": "stream",
     "text": [
      "excepted\n"
     ]
    }
   ],
   "source": [
    "if c_T_statics>critical_val :\n",
    "    print('rejected')\n",
    "else :\n",
    "    print(\"excepted\")"
   ]
  },
  {
   "cell_type": "code",
   "execution_count": null,
   "id": "79c3e799",
   "metadata": {},
   "outputs": [],
   "source": []
  }
 ],
 "metadata": {
  "kernelspec": {
   "display_name": "Python 3 (ipykernel)",
   "language": "python",
   "name": "python3"
  },
  "language_info": {
   "codemirror_mode": {
    "name": "ipython",
    "version": 3
   },
   "file_extension": ".py",
   "mimetype": "text/x-python",
   "name": "python",
   "nbconvert_exporter": "python",
   "pygments_lexer": "ipython3",
   "version": "3.11.0"
  }
 },
 "nbformat": 4,
 "nbformat_minor": 5
}

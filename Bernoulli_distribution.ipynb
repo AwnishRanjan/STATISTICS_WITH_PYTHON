{
 "cells": [
  {
   "cell_type": "code",
   "execution_count": 26,
   "id": "b523d59a",
   "metadata": {},
   "outputs": [
    {
     "name": "stdout",
     "output_type": "stream",
     "text": [
      "Random_Var : \n",
      " <scipy.stats._distn_infrastructure.rv_discrete_frozen object at 0x0000021DB853A710>\n"
     ]
    }
   ],
   "source": [
    "from scipy.stats import bernoulli\n",
    "p,q = 0.3,0.7\n",
    "rv = bernoulli (p, q)\n",
    "\n",
    "print (\"Random_Var : \\n\", rv)\n",
    "\n"
   ]
  },
  {
   "cell_type": "code",
   "execution_count": 30,
   "id": "3b83896a",
   "metadata": {},
   "outputs": [
    {
     "name": "stdout",
     "output_type": "stream",
     "text": [
      "Random Variates : \n",
      " [0 0 1 0 0 0 0 0 0 0]\n"
     ]
    },
    {
     "data": {
      "text/plain": [
       "nan"
      ]
     },
     "execution_count": 30,
     "metadata": {},
     "output_type": "execute_result"
    }
   ],
   "source": [
    "import numpy as np\n",
    "quantile = np.arange (0.01, 1, 0.1)  # (start, stop, step) geneate arrays nums \n",
    "\n",
    "# Random Variates\n",
    "R = bernoulli.rvs(p,size=10)\n",
    "print (\"Random Variates : \\n\", R)\n",
    "\n",
    "\n",
    "bernoulli.ppf(0.01, )"
   ]
  },
  {
   "cell_type": "code",
   "execution_count": 28,
   "id": "0a479e3a",
   "metadata": {},
   "outputs": [
    {
     "name": "stdout",
     "output_type": "stream",
     "text": [
      "\n",
      "Probability Distribution : \n",
      " [nan nan nan nan nan nan nan nan nan nan]\n"
     ]
    }
   ],
   "source": [
    "x = np.linspace(bernoulli.ppf(0.01, 10),bernoulli.ppf(0.99, 10), 10)\n",
    "R = bernoulli.ppf(x, 1, 3)\n",
    "print (\"\\nProbability Distribution : \\n\", R) "
   ]
  },
  {
   "cell_type": "code",
   "execution_count": 18,
   "id": "a5cc0adc",
   "metadata": {},
   "outputs": [],
   "source": [
    "data_set=np.random.rand(10)"
   ]
  },
  {
   "cell_type": "code",
   "execution_count": 22,
   "id": "2c52d49c",
   "metadata": {},
   "outputs": [],
   "source": [
    "data_set\n",
    "theta =0.8"
   ]
  },
  {
   "cell_type": "code",
   "execution_count": 24,
   "id": "5043bdba",
   "metadata": {},
   "outputs": [
    {
     "name": "stderr",
     "output_type": "stream",
     "text": [
      "C:\\Users\\ranja\\AppData\\Local\\Temp\\ipykernel_27872\\38001988.py:1: DeprecationWarning: `np.int` is a deprecated alias for the builtin `int`. To silence this warning, use `int` by itself. Doing this will not modify any behavior and is safe. When replacing `np.int`, you may wish to use e.g. `np.int64` or `np.int32` to specify the precision. If you wish to review your current use, check the release note link for additional information.\n",
      "Deprecated in NumPy 1.20; for more details and guidance: https://numpy.org/devdocs/release/1.20.0-notes.html#deprecations\n",
      "  (data_set<=theta).astype(np.int)\n"
     ]
    },
    {
     "data": {
      "text/plain": [
       "array([1, 1, 1, 0, 0, 0, 1, 0, 1, 1])"
      ]
     },
     "execution_count": 24,
     "metadata": {},
     "output_type": "execute_result"
    }
   ],
   "source": [
    "(data_set<=theta).astype(np.int)"
   ]
  },
  {
   "cell_type": "code",
   "execution_count": 42,
   "id": "dcbae469",
   "metadata": {},
   "outputs": [
    {
     "name": "stdout",
     "output_type": "stream",
     "text": [
      "[0.43644593 0.21419206 0.12830027 0.31155346 0.76416685 0.08330641\n",
      " 0.13058128 0.43239894 0.80244206 0.05388913]\n",
      "[0.56355407 0.78580794 0.87169973 0.68844654 0.23583315 0.91669359\n",
      " 0.86941872 0.56760106 0.19755794 0.94611087]\n"
     ]
    }
   ],
   "source": [
    "from scipy.stats import bernoulli\n",
    "import numpy as np\n",
    "\n",
    "data_set=np.random.rand(10)\n",
    "result = bernoulli.cdf(0.1,data_set)\n",
    "print(data_set)\n",
    "print(result)\n"
   ]
  },
  {
   "cell_type": "code",
   "execution_count": 35,
   "id": "d6c4be66",
   "metadata": {},
   "outputs": [],
   "source": [
    "import matplotlib.pyplot as plt"
   ]
  },
  {
   "cell_type": "code",
   "execution_count": 43,
   "id": "7aa20d06",
   "metadata": {},
   "outputs": [
    {
     "data": {
      "text/plain": [
       "[<matplotlib.lines.Line2D at 0x27d2478dc10>]"
      ]
     },
     "execution_count": 43,
     "metadata": {},
     "output_type": "execute_result"
    },
    {
     "data": {
      "image/png": "[encoded data removed]",
      "text/plain": [
       "<Figure size 640x480 with 1 Axes>"
      ]
     },
     "metadata": {},
     "output_type": "display_data"
    }
   ],
   "source": [
    "plt.plot(data_set,result)"
   ]
  },
  {
   "cell_type": "code",
   "execution_count": null,
   "id": "7d8a12f4",
   "metadata": {},
   "outputs": [],
   "source": []
  }
 ],
 "metadata": {
  "kernelspec": {
   "display_name": "Python 3 (ipykernel)",
   "language": "python",
   "name": "python3"
  },
  "language_info": {
   "codemirror_mode": {
    "name": "ipython",
    "version": 3
   },
   "file_extension": ".py",
   "mimetype": "text/x-python",
   "name": "python",
   "nbconvert_exporter": "python",
   "pygments_lexer": "ipython3",
   "version": "3.11.0"
  }
 },
 "nbformat": 4,
 "nbformat_minor": 5
}
